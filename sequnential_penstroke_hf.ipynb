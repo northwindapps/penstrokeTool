{
  "nbformat": 4,
  "nbformat_minor": 0,
  "metadata": {
    "colab": {
      "provenance": []
    },
    "kernelspec": {
      "name": "python3",
      "display_name": "Python 3"
    },
    "language_info": {
      "name": "python"
    }
  },
  "cells": [
    {
      "cell_type": "code",
      "source": [
        "import json\n",
        "import pandas as pd\n",
        "import numpy as np\n",
        "\n"
      ],
      "metadata": {
        "id": "y_y_bVlSGB2y"
      },
      "execution_count": 1,
      "outputs": []
    },
    {
      "cell_type": "code",
      "source": [
        "\n",
        "!git clone https://huggingface.co/datasets/newbienewbie/handwriting_strokes\n",
        "\n"
      ],
      "metadata": {
        "colab": {
          "base_uri": "https://localhost:8080/"
        },
        "id": "GKIZdttRDM81",
        "outputId": "37d27ba2-7d1e-480e-830a-d027b31d2069"
      },
      "execution_count": 2,
      "outputs": [
        {
          "output_type": "stream",
          "name": "stdout",
          "text": [
            "Cloning into 'handwriting_strokes'...\n",
            "remote: Enumerating objects: 85, done.\u001b[K\n",
            "remote: Counting objects: 100% (82/82), done.\u001b[K\n",
            "remote: Compressing objects: 100% (82/82), done.\u001b[K\n",
            "remote: Total 85 (delta 21), reused 0 (delta 0), pack-reused 3 (from 1)\u001b[K\n",
            "Unpacking objects: 100% (85/85), 21.97 KiB | 271.00 KiB/s, done.\n"
          ]
        }
      ]
    },
    {
      "cell_type": "code",
      "source": [
        "file_path = \"/content/handwriting_strokes/data/test-00000-of-00001.parquet\"\n",
        "testData = pd.read_parquet(file_path)\n",
        "\n",
        "file_path = \"/content/handwriting_strokes/data/train-00000-of-00001.parquet\"\n",
        "trainData = pd.read_parquet(file_path)\n",
        "\n",
        "file_path = \"/content/handwriting_strokes/data/validation-00000-of-00001.parquet\"\n",
        "validationData = pd.read_parquet(file_path)\n",
        "\n",
        "\n",
        "# Inspect the strokes column\n",
        "# print(testData)"
      ],
      "metadata": {
        "id": "6hYOpJdAMqZs"
      },
      "execution_count": 3,
      "outputs": []
    },
    {
      "cell_type": "code",
      "source": [
        "\n",
        "from sklearn.preprocessing import MinMaxScaler, LabelBinarizer\n",
        "from tensorflow.keras.preprocessing.sequence import pad_sequences\n",
        "\n",
        "\n",
        "# Extracting x, y, time, and annotations\n",
        "xCoordinates = [np.array(item, dtype=np.float32) for item in trainData['xCoordinates'].tolist()]\n",
        "yCoordinates = [np.array(item, dtype=np.float32) for item in trainData['yCoordinates'].tolist()]\n",
        "# timeStamps = [np.array(item, dtype=np.float32) for item in trainData['timeStamps'].tolist()]\n",
        "annotations = [str(item) for item in trainData['sampleTag']]\n",
        "\n",
        "\n",
        "\n",
        "# Normalize coordinates and timestamps\n",
        "scaler = MinMaxScaler()\n",
        "\n",
        "xCoordinates = [scaler.fit_transform(x.reshape(-1, 1)).flatten() for x in xCoordinates]\n",
        "yCoordinates = [scaler.fit_transform(y.reshape(-1, 1)).flatten() for y in yCoordinates]\n",
        "# timeStamps = [scaler.fit_transform(t.reshape(-1, 1)).flatten() for t in timeStamps]\n",
        "\n",
        "# Combine and pad sequences\n",
        "combinedData = [np.column_stack((x, y)) for x, y in zip(xCoordinates, yCoordinates)]\n",
        "# print(combinedData)\n",
        "print(xCoordinates[0])"
      ],
      "metadata": {
        "id": "OnAEp1nSo77c",
        "colab": {
          "base_uri": "https://localhost:8080/"
        },
        "outputId": "02f72a21-bc54-451c-e02e-4a7c19d5cb1f"
      },
      "execution_count": 4,
      "outputs": [
        {
          "output_type": "stream",
          "name": "stdout",
          "text": [
            "[0.98611104 0.5416666  0.4722222  0.4027778  0.3472222  0.30555558\n",
            " 0.26388884 0.20833337 0.16666663 0.125      0.08333337 0.05555558\n",
            " 0.01388884 0.         0.         0.         0.         0.\n",
            " 0.         0.         0.         0.02777779 0.11111116 0.15277779\n",
            " 0.20833337 0.25       0.2777778  0.31944442 0.3472222  0.38888884\n",
            " 0.43055558 0.5277778  0.6527778  0.6944444  0.73611116 0.7777778\n",
            " 0.8055556  0.86111116 0.88888884 0.9166666  0.9444444  0.9583334\n",
            " 0.98611104 1.0000001  1.0000001  1.0000001  1.0000001  1.0000001\n",
            " 1.0000001  1.0000001  1.0000001  0.9722222  0.9305556  0.9027778\n",
            " 0.875      0.8194444  0.8055556  0.7777778  0.75       0.73611116\n",
            " 0.73611116 0.7777778 ]\n"
          ]
        }
      ]
    },
    {
      "cell_type": "code",
      "source": [
        "def select_model_20(item):\n",
        "    if 10 < item.shape[0] < 30:\n",
        "        return True\n",
        "    else:\n",
        "        return False\n",
        "\n",
        "def select_model_40(item):\n",
        "    if 30 < item.shape[0] < 50:\n",
        "        return True\n",
        "    else:\n",
        "        return False\n",
        "\n",
        "def select_model_60(item):\n",
        "    if 50 < item.shape[0] < 70:\n",
        "        return True\n",
        "    else:\n",
        "        return False\n",
        "\n",
        "def select_model_80(item):\n",
        "    if 70 < item.shape[0] < 90:\n",
        "        return True\n",
        "    else:\n",
        "        return False\n"
      ],
      "metadata": {
        "id": "xuvWVB3hpjzG"
      },
      "execution_count": 5,
      "outputs": []
    },
    {
      "cell_type": "code",
      "source": [
        "filtered_20 = []\n",
        "annotations_20 = []\n",
        "for index, data in enumerate(combinedData):\n",
        "    if select_model_20(data):\n",
        "        filtered_20.append(data)\n",
        "        annotations_20.append(annotations[index])\n",
        "# print(len(filtered_20))\n",
        "\n",
        "\n",
        "filtered_40 = []\n",
        "annotations_40 = []\n",
        "\n",
        "for index, data in enumerate(combinedData):\n",
        "    if select_model_40(data):\n",
        "        filtered_40.append(data)\n",
        "        annotations_40.append(annotations[index])\n",
        "\n",
        "# To check the results\n",
        "print(annotations_40)\n",
        "\n",
        "filtered_60 = []\n",
        "annotations_60 = []\n",
        "\n",
        "for index, data in enumerate(combinedData):\n",
        "    if select_model_60(data):\n",
        "        filtered_60.append(data)\n",
        "        annotations_60.append(annotations[index])\n",
        "\n",
        "# To check the results\n",
        "print(annotations_60)"
      ],
      "metadata": {
        "colab": {
          "base_uri": "https://localhost:8080/"
        },
        "id": "j_tTO0Cno9Jw",
        "outputId": "83d13e15-791b-4450-c126-e470e6059b39"
      },
      "execution_count": 6,
      "outputs": [
        {
          "output_type": "stream",
          "name": "stdout",
          "text": [
            "['2', '5', '12', '2', '4', '5', '8', '10', '12', '16', '5', '8', '12', '15', '16', '5', '8', '10', '15', '16', '10', '12', '15', '16', '4', '5', '8', '10', '12', '14', '15', '16', '2', '5', '8', '10', '12', '14', '16', '2', '4', '8', '10', '2', '5', '10', '16', '0', '2', '4', '7', '8', '10', '12', '0', '2', '4', '5', '8', '10', '11', '14', '0', '2', '4', '8', '10', '11', '0', '2', '3', '4', '5', '8', '10', '11', '14', '0', '2', '4', '7', '8', '9', '10', '11', '0', '2', '4', '8', '10', '11', '12', '2', '3', '5', '8', '10', '12', '0', '2', '4', '10', '0', '2', '3', '4', '7', '8', '10', '14', '2', '4', '8', '10', '12', '18', '0', '2', '4', '8', '10', '11', '12', '2', '4', '5', '8', '10', '11', '17', '18', '0', '2', '3', '4', '10', '11', '12', '17', '0', '2', '4', '9', '11', '12', '14', '17', '18', '0', '2', '3', '4', '8', '9', '10', '11', '12', '18', '0', '2', '3', '4', '10', '11', '12', '14', '2', '3', '4', '9', '14', '2', '3', '4', '8', '10', '12', '0', '2', '3', '4', '7', '10', '12', '17', '0', '2', '3', '4', '10', '14', '17']\n",
            "['0', '4', '7', '13', '14', '18', '0', '11', '14', '2', '3', '4', '7', '9', '14', '18', '2', '7', '14', '18', '19', '2', '3', '4', '7', '11', '14', '18', '0', '2', '3', '7', '11', '13', '18', '0', '3', '4', '11', '13', '18', '0', '3', '7', '9', '14', '0', '3', '4', '7', '13', '14', '17', '18', '3', '9', '11', '14', '17', '18', '3', '7', '9', '17', '18', '3', '9', '17', '18', '19', '6', '7', '9', '13', '18', '19', '3', '13', '14', '17', '18', '3', '7', '9', '13', '14', '17', '18', '7', '9', '14', '17', '18', '7', '9', '11', '14', '17', '18', '9', '11', '13', '17', '18', '19', '0', '3', '9', '11', '13', '14', '17', '3', '6', '7', '9', '13', '14', '17', '18', '0', '3', '6', '7', '9', '13', '7', '13', '14', '18', '3', '6', '7', '7', '13', '17', '19', '7', '9', '13', '17', '18', '0', '7', '11', '13', '17', '18', '0', '6', '7', '11', '14', '17', '18', '19', '6', '9', '13', '14', '6', '7', '9', '11', '13', '18', '19']\n"
          ]
        }
      ]
    },
    {
      "cell_type": "code",
      "execution_count": 7,
      "metadata": {
        "id": "OPDc8inUEy_v"
      },
      "outputs": [],
      "source": [
        "\n",
        "max_len = 30\n",
        "padded_data_20 = pad_sequences(filtered_20, maxlen=max_len, padding='post', dtype='float32')\n",
        "\n",
        "\n",
        "max_len = 50\n",
        "padded_data_40 = pad_sequences(filtered_40, maxlen=max_len, padding='post', dtype='float32')\n",
        "\n",
        "\n",
        "max_len = 70\n",
        "padded_data_60 = pad_sequences(filtered_60, maxlen=max_len, padding='post', dtype='float32')\n",
        "\n",
        "\n",
        "\n",
        "# One-hot encode annotations\n",
        "label_binarizer = LabelBinarizer()\n",
        "\n",
        "all_annotations = annotations_20 + annotations_40 + annotations_60  # Combine all annotations\n",
        "label_binarizer = LabelBinarizer()\n",
        "label_binarizer.fit(all_annotations)\n",
        "labels_20 = label_binarizer.transform(annotations_20)\n",
        "labels_40 = label_binarizer.transform(annotations_40)\n",
        "labels_60 = label_binarizer.transform(annotations_60)\n",
        "\n",
        "# print(labels_60)"
      ]
    },
    {
      "cell_type": "code",
      "source": [
        "import tensorflow as tf\n",
        "from tensorflow.keras.models import Sequential\n",
        "from tensorflow.keras.layers import LSTM, Dense, Masking\n",
        "from tensorflow.keras.optimizers import Adam\n",
        "\n",
        "# Define the model\n",
        "model = Sequential()\n",
        "model.add(Masking(mask_value=0.0, input_shape=(padded_data_20.shape[1], padded_data_20.shape[2])))\n",
        "model.add(LSTM(50))\n",
        "model.add(Dense(labels_20.shape[1], activation='softmax'))  # Number of classes\n",
        "\n",
        "learning_rate = 0.001\n",
        "optimizer = Adam(learning_rate=learning_rate)\n",
        "\n",
        "# Compile the model\n",
        "model.compile(optimizer=optimizer, loss='categorical_crossentropy', metrics=['accuracy'])\n",
        "\n",
        "# Train the model\n",
        "model.fit(padded_data_20, labels_20, epochs=10, batch_size=1)\n",
        "\n",
        "print(labels_20)\n",
        "\n",
        "# To evaluate the model, prepare the test data similarly and use model.evaluate(test_data, test_labels)\n"
      ],
      "metadata": {
        "colab": {
          "base_uri": "https://localhost:8080/"
        },
        "id": "iphVaBFncw6s",
        "outputId": "9d631568-80fb-4294-c580-2daeca668c02"
      },
      "execution_count": 19,
      "outputs": [
        {
          "output_type": "stream",
          "name": "stdout",
          "text": [
            "Epoch 1/10\n"
          ]
        },
        {
          "output_type": "stream",
          "name": "stderr",
          "text": [
            "/usr/local/lib/python3.10/dist-packages/keras/src/layers/core/masking.py:47: UserWarning: Do not pass an `input_shape`/`input_dim` argument to a layer. When using Sequential models, prefer using an `Input(shape)` object as the first layer in the model instead.\n",
            "  super().__init__(**kwargs)\n"
          ]
        },
        {
          "output_type": "stream",
          "name": "stdout",
          "text": [
            "\u001b[1m96/96\u001b[0m \u001b[32m━━━━━━━━━━━━━━━━━━━━\u001b[0m\u001b[37m\u001b[0m \u001b[1m3s\u001b[0m 9ms/step - accuracy: 0.2627 - loss: 2.6727\n",
            "Epoch 2/10\n",
            "\u001b[1m96/96\u001b[0m \u001b[32m━━━━━━━━━━━━━━━━━━━━\u001b[0m\u001b[37m\u001b[0m \u001b[1m1s\u001b[0m 9ms/step - accuracy: 0.4604 - loss: 1.7535\n",
            "Epoch 3/10\n",
            "\u001b[1m96/96\u001b[0m \u001b[32m━━━━━━━━━━━━━━━━━━━━\u001b[0m\u001b[37m\u001b[0m \u001b[1m1s\u001b[0m 9ms/step - accuracy: 0.4785 - loss: 1.4436\n",
            "Epoch 4/10\n",
            "\u001b[1m96/96\u001b[0m \u001b[32m━━━━━━━━━━━━━━━━━━━━\u001b[0m\u001b[37m\u001b[0m \u001b[1m1s\u001b[0m 8ms/step - accuracy: 0.5900 - loss: 1.0670\n",
            "Epoch 5/10\n",
            "\u001b[1m96/96\u001b[0m \u001b[32m━━━━━━━━━━━━━━━━━━━━\u001b[0m\u001b[37m\u001b[0m \u001b[1m1s\u001b[0m 8ms/step - accuracy: 0.6408 - loss: 0.9355\n",
            "Epoch 6/10\n",
            "\u001b[1m96/96\u001b[0m \u001b[32m━━━━━━━━━━━━━━━━━━━━\u001b[0m\u001b[37m\u001b[0m \u001b[1m1s\u001b[0m 9ms/step - accuracy: 0.5641 - loss: 0.9014\n",
            "Epoch 7/10\n",
            "\u001b[1m96/96\u001b[0m \u001b[32m━━━━━━━━━━━━━━━━━━━━\u001b[0m\u001b[37m\u001b[0m \u001b[1m1s\u001b[0m 14ms/step - accuracy: 0.8252 - loss: 0.5944\n",
            "Epoch 8/10\n",
            "\u001b[1m96/96\u001b[0m \u001b[32m━━━━━━━━━━━━━━━━━━━━\u001b[0m\u001b[37m\u001b[0m \u001b[1m1s\u001b[0m 14ms/step - accuracy: 0.8155 - loss: 0.5474\n",
            "Epoch 9/10\n",
            "\u001b[1m96/96\u001b[0m \u001b[32m━━━━━━━━━━━━━━━━━━━━\u001b[0m\u001b[37m\u001b[0m \u001b[1m2s\u001b[0m 9ms/step - accuracy: 0.8187 - loss: 0.5742\n",
            "Epoch 10/10\n",
            "\u001b[1m96/96\u001b[0m \u001b[32m━━━━━━━━━━━━━━━━━━━━\u001b[0m\u001b[37m\u001b[0m \u001b[1m1s\u001b[0m 9ms/step - accuracy: 0.7425 - loss: 0.6166\n",
            "[[0 1 0 ... 0 0 0]\n",
            " [0 0 0 ... 0 1 0]\n",
            " [0 0 1 ... 0 0 0]\n",
            " ...\n",
            " [0 0 0 ... 0 0 0]\n",
            " [0 0 0 ... 0 0 0]\n",
            " [0 0 0 ... 0 0 0]]\n"
          ]
        }
      ]
    },
    {
      "cell_type": "code",
      "source": [
        "import tensorflow as tf\n",
        "from tensorflow.keras.models import Sequential\n",
        "from tensorflow.keras.layers import LSTM, Dense, Masking\n",
        "from tensorflow.keras.optimizers import Adam\n",
        "\n",
        "# Define the model\n",
        "model_40 = Sequential()\n",
        "model_40.add(Masking(mask_value=0.0, input_shape=(padded_data_40.shape[1], padded_data_40.shape[2])))\n",
        "model_40.add(LSTM(50))\n",
        "model_40.add(Dense(labels_40.shape[1], activation='softmax'))  # Number of classes\n",
        "\n",
        "learning_rate = 0.001\n",
        "optimizer = Adam(learning_rate=learning_rate)\n",
        "\n",
        "# Compile the model\n",
        "model_40.compile(optimizer=optimizer, loss='categorical_crossentropy', metrics=['accuracy'])\n",
        "\n",
        "# Train the model\n",
        "model_40.fit(padded_data_40, labels_40, epochs=10, batch_size=1)\n",
        "\n",
        "# print(labels_20)\n",
        "\n",
        "# To evaluate th"
      ],
      "metadata": {
        "colab": {
          "base_uri": "https://localhost:8080/"
        },
        "id": "qM_SsTVooREk",
        "outputId": "c1ac4515-d856-4200-ad7e-f5f8a4c22e18"
      },
      "execution_count": 20,
      "outputs": [
        {
          "output_type": "stream",
          "name": "stdout",
          "text": [
            "Epoch 1/10\n",
            "\u001b[1m192/192\u001b[0m \u001b[32m━━━━━━━━━━━━━━━━━━━━\u001b[0m\u001b[37m\u001b[0m \u001b[1m5s\u001b[0m 13ms/step - accuracy: 0.0714 - loss: 2.8595\n",
            "Epoch 2/10\n",
            "\u001b[1m192/192\u001b[0m \u001b[32m━━━━━━━━━━━━━━━━━━━━\u001b[0m\u001b[37m\u001b[0m \u001b[1m3s\u001b[0m 13ms/step - accuracy: 0.2945 - loss: 2.0657\n",
            "Epoch 3/10\n",
            "\u001b[1m192/192\u001b[0m \u001b[32m━━━━━━━━━━━━━━━━━━━━\u001b[0m\u001b[37m\u001b[0m \u001b[1m6s\u001b[0m 16ms/step - accuracy: 0.4697 - loss: 1.6736\n",
            "Epoch 4/10\n",
            "\u001b[1m192/192\u001b[0m \u001b[32m━━━━━━━━━━━━━━━━━━━━\u001b[0m\u001b[37m\u001b[0m \u001b[1m5s\u001b[0m 14ms/step - accuracy: 0.5667 - loss: 1.4627\n",
            "Epoch 5/10\n",
            "\u001b[1m192/192\u001b[0m \u001b[32m━━━━━━━━━━━━━━━━━━━━\u001b[0m\u001b[37m\u001b[0m \u001b[1m5s\u001b[0m 14ms/step - accuracy: 0.6608 - loss: 1.0827\n",
            "Epoch 6/10\n",
            "\u001b[1m192/192\u001b[0m \u001b[32m━━━━━━━━━━━━━━━━━━━━\u001b[0m\u001b[37m\u001b[0m \u001b[1m6s\u001b[0m 18ms/step - accuracy: 0.6496 - loss: 1.1360\n",
            "Epoch 7/10\n",
            "\u001b[1m192/192\u001b[0m \u001b[32m━━━━━━━━━━━━━━━━━━━━\u001b[0m\u001b[37m\u001b[0m \u001b[1m3s\u001b[0m 13ms/step - accuracy: 0.6238 - loss: 1.0561\n",
            "Epoch 8/10\n",
            "\u001b[1m192/192\u001b[0m \u001b[32m━━━━━━━━━━━━━━━━━━━━\u001b[0m\u001b[37m\u001b[0m \u001b[1m5s\u001b[0m 14ms/step - accuracy: 0.6750 - loss: 0.8897\n",
            "Epoch 9/10\n",
            "\u001b[1m192/192\u001b[0m \u001b[32m━━━━━━━━━━━━━━━━━━━━\u001b[0m\u001b[37m\u001b[0m \u001b[1m4s\u001b[0m 18ms/step - accuracy: 0.6677 - loss: 0.9361\n",
            "Epoch 10/10\n",
            "\u001b[1m192/192\u001b[0m \u001b[32m━━━━━━━━━━━━━━━━━━━━\u001b[0m\u001b[37m\u001b[0m \u001b[1m4s\u001b[0m 13ms/step - accuracy: 0.8114 - loss: 0.6503\n"
          ]
        },
        {
          "output_type": "execute_result",
          "data": {
            "text/plain": [
              "<keras.src.callbacks.history.History at 0x7e7dfff3ecb0>"
            ]
          },
          "metadata": {},
          "execution_count": 20
        }
      ]
    },
    {
      "cell_type": "code",
      "source": [
        "import tensorflow as tf\n",
        "from tensorflow.keras.models import Sequential\n",
        "from tensorflow.keras.layers import LSTM, Dense, Masking\n",
        "from tensorflow.keras.optimizers import Adam\n",
        "\n",
        "# Define the model\n",
        "model_60 = Sequential()\n",
        "model_60.add(Masking(mask_value=0.0, input_shape=(padded_data_60.shape[1], padded_data_60.shape[2])))\n",
        "model_60.add(LSTM(50))\n",
        "model_60.add(Dense(labels_60.shape[1], activation='softmax'))  # Number of classes\n",
        "\n",
        "learning_rate = 0.001\n",
        "optimizer = Adam(learning_rate=learning_rate)\n",
        "\n",
        "# Compile the model\n",
        "model_60.compile(optimizer=optimizer, loss='categorical_crossentropy', metrics=['accuracy'])\n",
        "\n",
        "# Train the model\n",
        "model_60.fit(padded_data_60, labels_60, epochs=10, batch_size=1)\n",
        "\n",
        "# print(labels_20)\n",
        "\n",
        "# To evaluate th"
      ],
      "metadata": {
        "colab": {
          "base_uri": "https://localhost:8080/"
        },
        "id": "J2CB04fhLhwX",
        "outputId": "94822190-cb5b-4d6f-bf54-18749a4dbfa0"
      },
      "execution_count": 28,
      "outputs": [
        {
          "output_type": "stream",
          "name": "stdout",
          "text": [
            "Epoch 1/10\n"
          ]
        },
        {
          "output_type": "stream",
          "name": "stderr",
          "text": [
            "/usr/local/lib/python3.10/dist-packages/keras/src/layers/core/masking.py:47: UserWarning: Do not pass an `input_shape`/`input_dim` argument to a layer. When using Sequential models, prefer using an `Input(shape)` object as the first layer in the model instead.\n",
            "  super().__init__(**kwargs)\n"
          ]
        },
        {
          "output_type": "stream",
          "name": "stdout",
          "text": [
            "\u001b[1m167/167\u001b[0m \u001b[32m━━━━━━━━━━━━━━━━━━━━\u001b[0m\u001b[37m\u001b[0m \u001b[1m5s\u001b[0m 18ms/step - accuracy: 0.1328 - loss: 2.8091\n",
            "Epoch 2/10\n",
            "\u001b[1m167/167\u001b[0m \u001b[32m━━━━━━━━━━━━━━━━━━━━\u001b[0m\u001b[37m\u001b[0m \u001b[1m6s\u001b[0m 22ms/step - accuracy: 0.4734 - loss: 1.8149\n",
            "Epoch 3/10\n",
            "\u001b[1m167/167\u001b[0m \u001b[32m━━━━━━━━━━━━━━━━━━━━\u001b[0m\u001b[37m\u001b[0m \u001b[1m4s\u001b[0m 18ms/step - accuracy: 0.5701 - loss: 1.2833\n",
            "Epoch 4/10\n",
            "\u001b[1m167/167\u001b[0m \u001b[32m━━━━━━━━━━━━━━━━━━━━\u001b[0m\u001b[37m\u001b[0m \u001b[1m3s\u001b[0m 17ms/step - accuracy: 0.6459 - loss: 1.1295\n",
            "Epoch 5/10\n",
            "\u001b[1m167/167\u001b[0m \u001b[32m━━━━━━━━━━━━━━━━━━━━\u001b[0m\u001b[37m\u001b[0m \u001b[1m4s\u001b[0m 26ms/step - accuracy: 0.7519 - loss: 0.8670\n",
            "Epoch 6/10\n",
            "\u001b[1m167/167\u001b[0m \u001b[32m━━━━━━━━━━━━━━━━━━━━\u001b[0m\u001b[37m\u001b[0m \u001b[1m3s\u001b[0m 19ms/step - accuracy: 0.7021 - loss: 0.8510\n",
            "Epoch 7/10\n",
            "\u001b[1m167/167\u001b[0m \u001b[32m━━━━━━━━━━━━━━━━━━━━\u001b[0m\u001b[37m\u001b[0m \u001b[1m3s\u001b[0m 18ms/step - accuracy: 0.6164 - loss: 1.0664\n",
            "Epoch 8/10\n",
            "\u001b[1m167/167\u001b[0m \u001b[32m━━━━━━━━━━━━━━━━━━━━\u001b[0m\u001b[37m\u001b[0m \u001b[1m6s\u001b[0m 22ms/step - accuracy: 0.8116 - loss: 0.6761\n",
            "Epoch 9/10\n",
            "\u001b[1m167/167\u001b[0m \u001b[32m━━━━━━━━━━━━━━━━━━━━\u001b[0m\u001b[37m\u001b[0m \u001b[1m5s\u001b[0m 18ms/step - accuracy: 0.7339 - loss: 0.7106\n",
            "Epoch 10/10\n",
            "\u001b[1m167/167\u001b[0m \u001b[32m━━━━━━━━━━━━━━━━━━━━\u001b[0m\u001b[37m\u001b[0m \u001b[1m3s\u001b[0m 18ms/step - accuracy: 0.8900 - loss: 0.3697\n"
          ]
        },
        {
          "output_type": "execute_result",
          "data": {
            "text/plain": [
              "<keras.src.callbacks.history.History at 0x7e7e039347f0>"
            ]
          },
          "metadata": {},
          "execution_count": 28
        }
      ]
    },
    {
      "cell_type": "code",
      "source": [
        "\n",
        "# Testing Extracting x, y, time, and annotations\n",
        "\n",
        "# Extracting x, y, time, and annotations\n",
        "xCoordinates_t = [np.array(item, dtype=np.float32) for item in testData['xCoordinates'].tolist()]\n",
        "yCoordinates_t = [np.array(item, dtype=np.float32) for item in testData['yCoordinates'].tolist()]\n",
        "# timeStamps_t = [np.array(item, dtype=np.float32) for item in testData['timeStamps'].tolist()]\n",
        "annotations_t = [str(item) for item in testData['sampleTag']]\n",
        "\n",
        "\n",
        "\n",
        "# Normalize coordinates and timestamps\n",
        "scaler = MinMaxScaler()\n",
        "\n",
        "xCoordinates_t = [scaler.fit_transform(x.reshape(-1, 1)).flatten() for x in xCoordinates_t]\n",
        "yCoordinates_t = [scaler.fit_transform(y.reshape(-1, 1)).flatten() for y in yCoordinates_t]\n",
        "# timeStamps_t = [scaler.fit_transform(t.reshape(-1, 1)).flatten() for t in timeStamps_t]\n",
        "\n",
        "# Combine and pad sequences\n",
        "combinedData_t = [np.column_stack((x, y)) for x, y in zip(xCoordinates_t, yCoordinates_t)]\n",
        "# print(combinedData)"
      ],
      "metadata": {
        "id": "LElXfO25T8ZE"
      },
      "execution_count": 22,
      "outputs": []
    },
    {
      "cell_type": "code",
      "source": [
        "filtered_20_t = []\n",
        "annotations_20_t = []\n",
        "for index, data in enumerate(combinedData_t):\n",
        "    if select_model_20(data):\n",
        "        filtered_20_t.append(data)\n",
        "        annotations_20_t.append(annotations_t[index])\n",
        "print(filtered_20_t)\n",
        "\n",
        "\n",
        "filtered_40_t = []\n",
        "annotations_40_t = []\n",
        "\n",
        "for index, data in enumerate(combinedData_t):\n",
        "    if select_model_40(data):\n",
        "        filtered_40_t.append(data)\n",
        "        annotations_40_t.append(annotations_t[index])\n",
        "\n",
        "# To check the results\n",
        "print(annotations_40_t)\n",
        "\n",
        "filtered_60_t = []\n",
        "annotations_60_t = []\n",
        "\n",
        "for index, data in enumerate(combinedData_t):\n",
        "    if select_model_60(data):\n",
        "        filtered_60_t.append(data)\n",
        "        annotations_60_t.append(annotations_t[index])\n",
        "\n",
        "# To check the results\n",
        "print(annotations_60_t)"
      ],
      "metadata": {
        "colab": {
          "base_uri": "https://localhost:8080/"
        },
        "id": "w3ofa2dR0CwV",
        "outputId": "2cbb3341-6a5a-4122-b897-73cdbcf12634"
      },
      "execution_count": 23,
      "outputs": [
        {
          "output_type": "stream",
          "name": "stdout",
          "text": [
            "[array([[0.        , 0.        ],\n",
            "       [0.        , 0.37681162],\n",
            "       [0.        , 0.5072464 ],\n",
            "       [0.        , 0.5652174 ],\n",
            "       [0.        , 0.63043475],\n",
            "       [0.        , 0.68840575],\n",
            "       [0.        , 0.7391305 ],\n",
            "       [0.        , 0.826087  ],\n",
            "       [0.        , 0.86956525],\n",
            "       [0.20000076, 0.89855075],\n",
            "       [0.20000076, 0.942029  ],\n",
            "       [0.20000076, 0.9637681 ],\n",
            "       [0.20000076, 0.9782609 ],\n",
            "       [0.20000076, 0.9927536 ],\n",
            "       [0.20000076, 1.        ],\n",
            "       [0.39999962, 1.        ],\n",
            "       [1.        , 0.98550725]], dtype=float32), array([[0.9399998 , 0.        ],\n",
            "       [0.03999996, 0.40441176],\n",
            "       [0.01999998, 0.4485294 ],\n",
            "       [0.        , 0.49264708],\n",
            "       [0.        , 0.53676474],\n",
            "       [0.        , 0.57352936],\n",
            "       [0.        , 0.6102941 ],\n",
            "       [0.        , 0.64705884],\n",
            "       [0.01999998, 0.6838236 ],\n",
            "       [0.05999994, 0.7205882 ],\n",
            "       [0.13999987, 0.75735295],\n",
            "       [0.22000003, 0.7941177 ],\n",
            "       [0.31999993, 0.8235295 ],\n",
            "       [0.39999986, 0.8602941 ],\n",
            "       [0.5       , 0.8897059 ],\n",
            "       [0.55999994, 0.91176474],\n",
            "       [0.63999987, 0.9338236 ],\n",
            "       [0.70000005, 0.9485295 ],\n",
            "       [0.76      , 0.9705882 ],\n",
            "       [0.79999995, 0.9705882 ],\n",
            "       [0.81999993, 0.97794116],\n",
            "       [0.8399999 , 0.97794116],\n",
            "       [0.8599999 , 0.97794116],\n",
            "       [0.8799999 , 0.97794116],\n",
            "       [0.91999984, 0.97794116],\n",
            "       [1.        , 1.        ]], dtype=float32)]\n",
            "['2', '4', '8', '10', '12', '14', '16']\n",
            "['0', '3', '7', '9', '11', '13', '18']\n"
          ]
        }
      ]
    },
    {
      "cell_type": "code",
      "source": [
        "# max_len = 30\n",
        "# padded_data_t = pad_sequences(filtered_20_t, maxlen=max_len, padding='post', dtype='float32')\n",
        "\n",
        "# # One-hot encode annotations\n",
        "# label_binarizer = LabelBinarizer()\n",
        "# labels_t = label_binarizer.fit_transform(annotations_20_t)\n",
        "# print(labels_20.shape)\n",
        "# print(labels_t.shape)\n",
        "\n",
        "# model.evaluate(padded_data_t, labels_t)"
      ],
      "metadata": {
        "colab": {
          "base_uri": "https://localhost:8080/",
          "height": 356
        },
        "id": "HLQ8Vj4Wz7UM",
        "outputId": "a58a8113-45b8-4793-98c4-3246c401e246"
      },
      "execution_count": null,
      "outputs": [
        {
          "output_type": "stream",
          "name": "stdout",
          "text": [
            "(41, 16)\n",
            "(13, 13)\n"
          ]
        },
        {
          "output_type": "error",
          "ename": "ValueError",
          "evalue": "Arguments `target` and `output` must have the same shape. Received: target.shape=(None, 13), output.shape=(None, 16)",
          "traceback": [
            "\u001b[0;31m---------------------------------------------------------------------------\u001b[0m",
            "\u001b[0;31mValueError\u001b[0m                                Traceback (most recent call last)",
            "\u001b[0;32m<ipython-input-107-d0125639a92d>\u001b[0m in \u001b[0;36m<cell line: 10>\u001b[0;34m()\u001b[0m\n\u001b[1;32m      8\u001b[0m \u001b[0mprint\u001b[0m\u001b[0;34m(\u001b[0m\u001b[0mlabels_t\u001b[0m\u001b[0;34m.\u001b[0m\u001b[0mshape\u001b[0m\u001b[0;34m)\u001b[0m\u001b[0;34m\u001b[0m\u001b[0;34m\u001b[0m\u001b[0m\n\u001b[1;32m      9\u001b[0m \u001b[0;34m\u001b[0m\u001b[0m\n\u001b[0;32m---> 10\u001b[0;31m \u001b[0mmodel\u001b[0m\u001b[0;34m.\u001b[0m\u001b[0mevaluate\u001b[0m\u001b[0;34m(\u001b[0m\u001b[0mpadded_data_t\u001b[0m\u001b[0;34m,\u001b[0m \u001b[0mlabels_t\u001b[0m\u001b[0;34m)\u001b[0m\u001b[0;34m\u001b[0m\u001b[0;34m\u001b[0m\u001b[0m\n\u001b[0m",
            "\u001b[0;32m/usr/local/lib/python3.10/dist-packages/keras/src/utils/traceback_utils.py\u001b[0m in \u001b[0;36merror_handler\u001b[0;34m(*args, **kwargs)\u001b[0m\n\u001b[1;32m    120\u001b[0m             \u001b[0;31m# To get the full stack trace, call:\u001b[0m\u001b[0;34m\u001b[0m\u001b[0;34m\u001b[0m\u001b[0m\n\u001b[1;32m    121\u001b[0m             \u001b[0;31m# `keras.config.disable_traceback_filtering()`\u001b[0m\u001b[0;34m\u001b[0m\u001b[0;34m\u001b[0m\u001b[0m\n\u001b[0;32m--> 122\u001b[0;31m             \u001b[0;32mraise\u001b[0m \u001b[0me\u001b[0m\u001b[0;34m.\u001b[0m\u001b[0mwith_traceback\u001b[0m\u001b[0;34m(\u001b[0m\u001b[0mfiltered_tb\u001b[0m\u001b[0;34m)\u001b[0m \u001b[0;32mfrom\u001b[0m \u001b[0;32mNone\u001b[0m\u001b[0;34m\u001b[0m\u001b[0;34m\u001b[0m\u001b[0m\n\u001b[0m\u001b[1;32m    123\u001b[0m         \u001b[0;32mfinally\u001b[0m\u001b[0;34m:\u001b[0m\u001b[0;34m\u001b[0m\u001b[0;34m\u001b[0m\u001b[0m\n\u001b[1;32m    124\u001b[0m             \u001b[0;32mdel\u001b[0m \u001b[0mfiltered_tb\u001b[0m\u001b[0;34m\u001b[0m\u001b[0;34m\u001b[0m\u001b[0m\n",
            "\u001b[0;32m/usr/local/lib/python3.10/dist-packages/keras/src/backend/tensorflow/nn.py\u001b[0m in \u001b[0;36mcategorical_crossentropy\u001b[0;34m(target, output, from_logits, axis)\u001b[0m\n\u001b[1;32m    585\u001b[0m     \u001b[0;32mfor\u001b[0m \u001b[0me1\u001b[0m\u001b[0;34m,\u001b[0m \u001b[0me2\u001b[0m \u001b[0;32min\u001b[0m \u001b[0mzip\u001b[0m\u001b[0;34m(\u001b[0m\u001b[0mtarget\u001b[0m\u001b[0;34m.\u001b[0m\u001b[0mshape\u001b[0m\u001b[0;34m,\u001b[0m \u001b[0moutput\u001b[0m\u001b[0;34m.\u001b[0m\u001b[0mshape\u001b[0m\u001b[0;34m)\u001b[0m\u001b[0;34m:\u001b[0m\u001b[0;34m\u001b[0m\u001b[0;34m\u001b[0m\u001b[0m\n\u001b[1;32m    586\u001b[0m         \u001b[0;32mif\u001b[0m \u001b[0me1\u001b[0m \u001b[0;32mis\u001b[0m \u001b[0;32mnot\u001b[0m \u001b[0;32mNone\u001b[0m \u001b[0;32mand\u001b[0m \u001b[0me2\u001b[0m \u001b[0;32mis\u001b[0m \u001b[0;32mnot\u001b[0m \u001b[0;32mNone\u001b[0m \u001b[0;32mand\u001b[0m \u001b[0me1\u001b[0m \u001b[0;34m!=\u001b[0m \u001b[0me2\u001b[0m\u001b[0;34m:\u001b[0m\u001b[0;34m\u001b[0m\u001b[0;34m\u001b[0m\u001b[0m\n\u001b[0;32m--> 587\u001b[0;31m             raise ValueError(\n\u001b[0m\u001b[1;32m    588\u001b[0m                 \u001b[0;34m\"Arguments `target` and `output` must have the same shape. \"\u001b[0m\u001b[0;34m\u001b[0m\u001b[0;34m\u001b[0m\u001b[0m\n\u001b[1;32m    589\u001b[0m                 \u001b[0;34m\"Received: \"\u001b[0m\u001b[0;34m\u001b[0m\u001b[0;34m\u001b[0m\u001b[0m\n",
            "\u001b[0;31mValueError\u001b[0m: Arguments `target` and `output` must have the same shape. Received: target.shape=(None, 13), output.shape=(None, 16)"
          ]
        }
      ]
    },
    {
      "cell_type": "code",
      "source": [
        "def predict_sample(input_data):\n",
        "    # Preprocess the input\n",
        "    padded_input = pad_sequences([input_data], maxlen=max_len, padding='post', dtype='float32')\n",
        "\n",
        "    # Predict\n",
        "    prediction = model.predict(padded_input)\n",
        "    predicted_class = np.argmax(prediction, axis=1)\n",
        "\n",
        "    # Map to label\n",
        "    label = label_binarizer.inverse_transform(prediction)\n",
        "    return label"
      ],
      "metadata": {
        "id": "KABQKMJyGVsl"
      },
      "execution_count": 15,
      "outputs": []
    },
    {
      "cell_type": "code",
      "source": [
        "for i, test_data in enumerate(filtered_20_t):\n",
        "    max_len = 30\n",
        "    # Pad the single sample\n",
        "    test_data_padded = pad_sequences([test_data], maxlen=max_len, padding='post', dtype='float32')\n",
        "\n",
        "    # Predict\n",
        "    prediction = model.predict(test_data_padded)\n",
        "\n",
        "\n",
        "    # Interpret\n",
        "    predicted_label = label_binarizer.inverse_transform(prediction)\n",
        "    print(f\"Sample {i}: Predicted label: {predicted_label}\")\n",
        "    print(f\"Sample {i}: Predicted Value: {prediction[0][i]}\")\n",
        "    print(f\"Sample {i}: Actual label: {annotations_20_t[i]}\")\n",
        "print(annotations_20_t)"
      ],
      "metadata": {
        "colab": {
          "base_uri": "https://localhost:8080/"
        },
        "id": "5nyu8_kcGWn8",
        "outputId": "bedf6686-8617-4577-f0ed-382f2a48f16a"
      },
      "execution_count": 24,
      "outputs": [
        {
          "output_type": "stream",
          "name": "stdout",
          "text": [
            "\u001b[1m1/1\u001b[0m \u001b[32m━━━━━━━━━━━━━━━━━━━━\u001b[0m\u001b[37m\u001b[0m \u001b[1m0s\u001b[0m 190ms/step\n",
            "Sample 0: Predicted label: ['1']\n",
            "Sample 0: Predicted Value: 0.0001682336733210832\n",
            "Sample 0: Actual label: 1\n",
            "\u001b[1m1/1\u001b[0m \u001b[32m━━━━━━━━━━━━━━━━━━━━\u001b[0m\u001b[37m\u001b[0m \u001b[1m0s\u001b[0m 21ms/step\n",
            "Sample 1: Predicted label: ['15']\n",
            "Sample 1: Predicted Value: 0.007550232112407684\n",
            "Sample 1: Actual label: 15\n",
            "['1', '15']\n"
          ]
        }
      ]
    },
    {
      "cell_type": "code",
      "source": [
        "import matplotlib.pyplot as plt\n",
        "for i, test_data in enumerate(filtered_40_t):\n",
        "\n",
        "    max_len = 50\n",
        "    # Pad the single sample\n",
        "    test_data_padded = pad_sequences([test_data], maxlen=max_len, padding='post', dtype='float32')\n",
        "\n",
        "    # Predict\n",
        "    prediction = model_40.predict(test_data_padded)\n",
        "\n",
        "\n",
        "    # Interpret\n",
        "    predicted_label = label_binarizer.inverse_transform(prediction)\n",
        "    print(f\"Sample {i}: Predicted label: {predicted_label}\")\n",
        "    print(f\"Sample {i}: Predicted Value: {prediction[0][i]}\")\n",
        "    print(f\"Sample {i}: Actual label: {annotations_40_t[i]}\")\n",
        "\n",
        "    # Define grid size (rows, columns)\n",
        "    grid_rows = 100  # Set the number of rows in your grid\n",
        "    grid_cols = 100  # Set the number of columns in your grid\n",
        "\n",
        "    # Map the normalized coordinates to the grid\n",
        "    mapped_coordinates = np.zeros_like(test_data)\n",
        "    mapped_coordinates[:, 0] = test_data[:, 0] * (grid_rows - 1)  # Map x to rows\n",
        "    mapped_coordinates[:, 1] = test_data[:, 1] * (grid_cols - 1)  # Map y to columns\n",
        "\n",
        "    # Plotting the graph\n",
        "    # plt.figure(figsize=(2, 1.5))\n",
        "    # plt.scatter(mapped_coordinates[:, 0], mapped_coordinates[:, 1], c='blue', label='Mapped Coordinates')\n",
        "\n",
        "    # # Adding labels and title\n",
        "    # plt.xlabel('X Coordinates (Rows)')\n",
        "    # plt.ylabel('Y Coordinates (Columns)')\n",
        "    # plt.title('Mapped Coordinates on Grid')\n",
        "\n",
        "    # Show the grid\n",
        "    # plt.grid(True)\n",
        "\n",
        "    # Show the plot\n",
        "    # plt.legend()\n",
        "    # plt.show()\n",
        "    # print(mapped_coordinates)\n"
      ],
      "metadata": {
        "colab": {
          "base_uri": "https://localhost:8080/"
        },
        "id": "vl3la9FVpI0u",
        "outputId": "7f94a5f1-c24c-4935-db52-4862cdc0c051"
      },
      "execution_count": 26,
      "outputs": [
        {
          "output_type": "stream",
          "name": "stdout",
          "text": [
            "\u001b[1m1/1\u001b[0m \u001b[32m━━━━━━━━━━━━━━━━━━━━\u001b[0m\u001b[37m\u001b[0m \u001b[1m0s\u001b[0m 31ms/step\n",
            "Sample 0: Predicted label: ['2']\n",
            "Sample 0: Predicted Value: 0.0006056834827177227\n",
            "Sample 0: Actual label: 2\n",
            "\u001b[1m1/1\u001b[0m \u001b[32m━━━━━━━━━━━━━━━━━━━━\u001b[0m\u001b[37m\u001b[0m \u001b[1m0s\u001b[0m 31ms/step\n",
            "Sample 1: Predicted label: ['4']\n",
            "Sample 1: Predicted Value: 3.1428313377546147e-05\n",
            "Sample 1: Actual label: 4\n",
            "\u001b[1m1/1\u001b[0m \u001b[32m━━━━━━━━━━━━━━━━━━━━\u001b[0m\u001b[37m\u001b[0m \u001b[1m0s\u001b[0m 33ms/step\n",
            "Sample 2: Predicted label: ['8']\n",
            "Sample 2: Predicted Value: 0.0012181242927908897\n",
            "Sample 2: Actual label: 8\n",
            "\u001b[1m1/1\u001b[0m \u001b[32m━━━━━━━━━━━━━━━━━━━━\u001b[0m\u001b[37m\u001b[0m \u001b[1m0s\u001b[0m 48ms/step\n",
            "Sample 3: Predicted label: ['0']\n",
            "Sample 3: Predicted Value: 0.35973936319351196\n",
            "Sample 3: Actual label: 10\n",
            "\u001b[1m1/1\u001b[0m \u001b[32m━━━━━━━━━━━━━━━━━━━━\u001b[0m\u001b[37m\u001b[0m \u001b[1m0s\u001b[0m 33ms/step\n",
            "Sample 4: Predicted label: ['12']\n",
            "Sample 4: Predicted Value: 0.8579062223434448\n",
            "Sample 4: Actual label: 12\n",
            "\u001b[1m1/1\u001b[0m \u001b[32m━━━━━━━━━━━━━━━━━━━━\u001b[0m\u001b[37m\u001b[0m \u001b[1m0s\u001b[0m 31ms/step\n",
            "Sample 5: Predicted label: ['2']\n",
            "Sample 5: Predicted Value: 6.889382348163053e-05\n",
            "Sample 5: Actual label: 14\n",
            "\u001b[1m1/1\u001b[0m \u001b[32m━━━━━━━━━━━━━━━━━━━━\u001b[0m\u001b[37m\u001b[0m \u001b[1m0s\u001b[0m 37ms/step\n",
            "Sample 6: Predicted label: ['5']\n",
            "Sample 6: Predicted Value: 0.009052947163581848\n",
            "Sample 6: Actual label: 16\n"
          ]
        }
      ]
    },
    {
      "cell_type": "code",
      "source": [
        "for i, test_data in enumerate(filtered_60_t):\n",
        "    max_len = 70\n",
        "    # Pad the single sample\n",
        "    test_data_padded = pad_sequences([test_data], maxlen=max_len, padding='post', dtype='float32')\n",
        "\n",
        "    # Predict\n",
        "    prediction = model_60.predict(test_data_padded)\n",
        "\n",
        "\n",
        "    # Interpret\n",
        "    predicted_label = label_binarizer.inverse_transform(prediction)\n",
        "    print(f\"Sample {i}: Predicted label: {predicted_label}\")\n",
        "    print(f\"Sample {i}: Predicted Value: {prediction[0][i]}\")\n",
        "    print(f\"Sample {i}: Actual label: {annotations_60_t[i]}\")"
      ],
      "metadata": {
        "colab": {
          "base_uri": "https://localhost:8080/"
        },
        "id": "G3ot2rXEMFd1",
        "outputId": "bc831532-50aa-4aec-e446-d9c6bcd45180"
      },
      "execution_count": 29,
      "outputs": [
        {
          "output_type": "stream",
          "name": "stdout",
          "text": [
            "\u001b[1m1/1\u001b[0m \u001b[32m━━━━━━━━━━━━━━━━━━━━\u001b[0m\u001b[37m\u001b[0m \u001b[1m0s\u001b[0m 197ms/step\n",
            "Sample 0: Predicted label: ['11']\n",
            "Sample 0: Predicted Value: 0.34572261571884155\n",
            "Sample 0: Actual label: 0\n",
            "\u001b[1m1/1\u001b[0m \u001b[32m━━━━━━━━━━━━━━━━━━━━\u001b[0m\u001b[37m\u001b[0m \u001b[1m0s\u001b[0m 29ms/step\n",
            "Sample 1: Predicted label: ['3']\n",
            "Sample 1: Predicted Value: 8.495241672790144e-06\n",
            "Sample 1: Actual label: 3\n",
            "\u001b[1m1/1\u001b[0m \u001b[32m━━━━━━━━━━━━━━━━━━━━\u001b[0m\u001b[37m\u001b[0m \u001b[1m0s\u001b[0m 23ms/step\n",
            "Sample 2: Predicted label: ['7']\n",
            "Sample 2: Predicted Value: 0.0001620188995730132\n",
            "Sample 2: Actual label: 7\n",
            "\u001b[1m1/1\u001b[0m \u001b[32m━━━━━━━━━━━━━━━━━━━━\u001b[0m\u001b[37m\u001b[0m \u001b[1m0s\u001b[0m 23ms/step\n",
            "Sample 3: Predicted label: ['9']\n",
            "Sample 3: Predicted Value: 0.19875609874725342\n",
            "Sample 3: Actual label: 9\n",
            "\u001b[1m1/1\u001b[0m \u001b[32m━━━━━━━━━━━━━━━━━━━━\u001b[0m\u001b[37m\u001b[0m \u001b[1m0s\u001b[0m 26ms/step\n",
            "Sample 4: Predicted label: ['11']\n",
            "Sample 4: Predicted Value: 5.036158472648822e-05\n",
            "Sample 4: Actual label: 11\n",
            "\u001b[1m1/1\u001b[0m \u001b[32m━━━━━━━━━━━━━━━━━━━━\u001b[0m\u001b[37m\u001b[0m \u001b[1m0s\u001b[0m 26ms/step\n",
            "Sample 5: Predicted label: ['13']\n",
            "Sample 5: Predicted Value: 0.9535701274871826\n",
            "Sample 5: Actual label: 13\n",
            "\u001b[1m1/1\u001b[0m \u001b[32m━━━━━━━━━━━━━━━━━━━━\u001b[0m\u001b[37m\u001b[0m \u001b[1m0s\u001b[0m 23ms/step\n",
            "Sample 6: Predicted label: ['18']\n",
            "Sample 6: Predicted Value: 0.0006207710248418152\n",
            "Sample 6: Actual label: 18\n"
          ]
        }
      ]
    },
    {
      "cell_type": "code",
      "source": [
        "print(filtered_20_t)"
      ],
      "metadata": {
        "colab": {
          "base_uri": "https://localhost:8080/"
        },
        "id": "QwHLnMPbIVeq",
        "outputId": "cf9dcaab-468c-4cbc-db35-c45806789041"
      },
      "execution_count": null,
      "outputs": [
        {
          "output_type": "stream",
          "name": "stdout",
          "text": [
            "[[0.78947353 0.         0.        ]\n",
            " [0.         0.277027   0.5295048 ]\n",
            " [0.05263138 0.3648649  0.55895317]\n",
            " [0.05263138 0.4391892  0.58858615]\n",
            " [0.05263138 0.5135135  0.61751527]]\n"
          ]
        }
      ]
    }
  ]
}